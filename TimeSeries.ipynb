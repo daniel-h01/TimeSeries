{
 "cells": [
  {
   "cell_type": "code",
   "execution_count": 1,
   "metadata": {},
   "outputs": [
    {
     "name": "stdout",
     "output_type": "stream",
     "text": [
      "Populating the interactive namespace from numpy and matplotlib\n"
     ]
    }
   ],
   "source": [
    "%pylab inline\n",
    "import pandas as pd\n",
    "from scipy import stats\n",
    "import statsmodels.api as sm\n",
    "import matplotlib.pyplot as plt\n",
    "import pmdarima as pm\n",
    "from sklearn.metrics import mean_squared_error\n",
    "from pmdarima.metrics import smape"
   ]
  },
  {
   "cell_type": "code",
   "execution_count": 2,
   "metadata": {},
   "outputs": [],
   "source": [
    "df = pd.read_csv('ETH_1min.csv', index_col=['Date'], parse_dates=['Date'])"
   ]
  },
  {
   "cell_type": "code",
   "execution_count": 3,
   "metadata": {},
   "outputs": [
    {
     "data": {
      "text/html": [
       "<div>\n",
       "<style scoped>\n",
       "    .dataframe tbody tr th:only-of-type {\n",
       "        vertical-align: middle;\n",
       "    }\n",
       "\n",
       "    .dataframe tbody tr th {\n",
       "        vertical-align: top;\n",
       "    }\n",
       "\n",
       "    .dataframe thead th {\n",
       "        text-align: right;\n",
       "    }\n",
       "</style>\n",
       "<table border=\"1\" class=\"dataframe\">\n",
       "  <thead>\n",
       "    <tr style=\"text-align: right;\">\n",
       "      <th></th>\n",
       "      <th>Unix Timestamp</th>\n",
       "      <th>Symbol</th>\n",
       "      <th>Open</th>\n",
       "      <th>High</th>\n",
       "      <th>Low</th>\n",
       "      <th>Close</th>\n",
       "      <th>Volume</th>\n",
       "    </tr>\n",
       "    <tr>\n",
       "      <th>Date</th>\n",
       "      <th></th>\n",
       "      <th></th>\n",
       "      <th></th>\n",
       "      <th></th>\n",
       "      <th></th>\n",
       "      <th></th>\n",
       "      <th></th>\n",
       "    </tr>\n",
       "  </thead>\n",
       "  <tbody>\n",
       "    <tr>\n",
       "      <th>2020-04-16 00:00:00</th>\n",
       "      <td>1586995200000</td>\n",
       "      <td>ETHUSD</td>\n",
       "      <td>152.94</td>\n",
       "      <td>152.94</td>\n",
       "      <td>151.33</td>\n",
       "      <td>151.33</td>\n",
       "      <td>112.724931</td>\n",
       "    </tr>\n",
       "    <tr>\n",
       "      <th>2020-04-15 23:59:00</th>\n",
       "      <td>1586995140000</td>\n",
       "      <td>ETHUSD</td>\n",
       "      <td>152.94</td>\n",
       "      <td>152.94</td>\n",
       "      <td>152.94</td>\n",
       "      <td>152.94</td>\n",
       "      <td>0.000000</td>\n",
       "    </tr>\n",
       "    <tr>\n",
       "      <th>2020-04-15 23:58:00</th>\n",
       "      <td>1586995080000</td>\n",
       "      <td>ETHUSD</td>\n",
       "      <td>153.17</td>\n",
       "      <td>153.17</td>\n",
       "      <td>152.94</td>\n",
       "      <td>152.94</td>\n",
       "      <td>0.013011</td>\n",
       "    </tr>\n",
       "    <tr>\n",
       "      <th>2020-04-15 23:57:00</th>\n",
       "      <td>1586995020000</td>\n",
       "      <td>ETHUSD</td>\n",
       "      <td>152.96</td>\n",
       "      <td>153.20</td>\n",
       "      <td>152.96</td>\n",
       "      <td>153.17</td>\n",
       "      <td>466.782278</td>\n",
       "    </tr>\n",
       "    <tr>\n",
       "      <th>2020-04-15 23:56:00</th>\n",
       "      <td>1586994960000</td>\n",
       "      <td>ETHUSD</td>\n",
       "      <td>153.14</td>\n",
       "      <td>153.14</td>\n",
       "      <td>152.96</td>\n",
       "      <td>152.96</td>\n",
       "      <td>167.930714</td>\n",
       "    </tr>\n",
       "    <tr>\n",
       "      <th>...</th>\n",
       "      <td>...</td>\n",
       "      <td>...</td>\n",
       "      <td>...</td>\n",
       "      <td>...</td>\n",
       "      <td>...</td>\n",
       "      <td>...</td>\n",
       "      <td>...</td>\n",
       "    </tr>\n",
       "    <tr>\n",
       "      <th>2016-05-09 13:36:00</th>\n",
       "      <td>1462800960</td>\n",
       "      <td>ETHUSD</td>\n",
       "      <td>10.00</td>\n",
       "      <td>10.00</td>\n",
       "      <td>10.00</td>\n",
       "      <td>10.00</td>\n",
       "      <td>0.375000</td>\n",
       "    </tr>\n",
       "    <tr>\n",
       "      <th>2016-05-09 13:35:00</th>\n",
       "      <td>1462800900</td>\n",
       "      <td>ETHUSD</td>\n",
       "      <td>10.00</td>\n",
       "      <td>10.00</td>\n",
       "      <td>10.00</td>\n",
       "      <td>10.00</td>\n",
       "      <td>60.000000</td>\n",
       "    </tr>\n",
       "    <tr>\n",
       "      <th>2016-05-09 13:34:00</th>\n",
       "      <td>1462800840</td>\n",
       "      <td>ETHUSD</td>\n",
       "      <td>10.00</td>\n",
       "      <td>10.00</td>\n",
       "      <td>10.00</td>\n",
       "      <td>10.00</td>\n",
       "      <td>8.000000</td>\n",
       "    </tr>\n",
       "    <tr>\n",
       "      <th>2016-05-09 13:33:00</th>\n",
       "      <td>1462800780</td>\n",
       "      <td>ETHUSD</td>\n",
       "      <td>12.00</td>\n",
       "      <td>12.00</td>\n",
       "      <td>10.00</td>\n",
       "      <td>10.00</td>\n",
       "      <td>43.497506</td>\n",
       "    </tr>\n",
       "    <tr>\n",
       "      <th>2016-05-09 13:32:00</th>\n",
       "      <td>1462800720</td>\n",
       "      <td>ETHUSD</td>\n",
       "      <td>0.00</td>\n",
       "      <td>12.00</td>\n",
       "      <td>0.00</td>\n",
       "      <td>12.00</td>\n",
       "      <td>4.156276</td>\n",
       "    </tr>\n",
       "  </tbody>\n",
       "</table>\n",
       "<p>1984012 rows × 7 columns</p>\n",
       "</div>"
      ],
      "text/plain": [
       "                     Unix Timestamp  Symbol    Open    High     Low   Close  \\\n",
       "Date                                                                          \n",
       "2020-04-16 00:00:00   1586995200000  ETHUSD  152.94  152.94  151.33  151.33   \n",
       "2020-04-15 23:59:00   1586995140000  ETHUSD  152.94  152.94  152.94  152.94   \n",
       "2020-04-15 23:58:00   1586995080000  ETHUSD  153.17  153.17  152.94  152.94   \n",
       "2020-04-15 23:57:00   1586995020000  ETHUSD  152.96  153.20  152.96  153.17   \n",
       "2020-04-15 23:56:00   1586994960000  ETHUSD  153.14  153.14  152.96  152.96   \n",
       "...                             ...     ...     ...     ...     ...     ...   \n",
       "2016-05-09 13:36:00      1462800960  ETHUSD   10.00   10.00   10.00   10.00   \n",
       "2016-05-09 13:35:00      1462800900  ETHUSD   10.00   10.00   10.00   10.00   \n",
       "2016-05-09 13:34:00      1462800840  ETHUSD   10.00   10.00   10.00   10.00   \n",
       "2016-05-09 13:33:00      1462800780  ETHUSD   12.00   12.00   10.00   10.00   \n",
       "2016-05-09 13:32:00      1462800720  ETHUSD    0.00   12.00    0.00   12.00   \n",
       "\n",
       "                         Volume  \n",
       "Date                             \n",
       "2020-04-16 00:00:00  112.724931  \n",
       "2020-04-15 23:59:00    0.000000  \n",
       "2020-04-15 23:58:00    0.013011  \n",
       "2020-04-15 23:57:00  466.782278  \n",
       "2020-04-15 23:56:00  167.930714  \n",
       "...                         ...  \n",
       "2016-05-09 13:36:00    0.375000  \n",
       "2016-05-09 13:35:00   60.000000  \n",
       "2016-05-09 13:34:00    8.000000  \n",
       "2016-05-09 13:33:00   43.497506  \n",
       "2016-05-09 13:32:00    4.156276  \n",
       "\n",
       "[1984012 rows x 7 columns]"
      ]
     },
     "execution_count": 3,
     "metadata": {},
     "output_type": "execute_result"
    }
   ],
   "source": [
    "df"
   ]
  },
  {
   "cell_type": "code",
   "execution_count": 4,
   "metadata": {},
   "outputs": [],
   "source": [
    "df.drop(\"Unix Timestamp\", inplace=True, axis=1)\n",
    "df.drop(\"Symbol\", inplace=True, axis=1)"
   ]
  },
  {
   "cell_type": "code",
   "execution_count": 5,
   "metadata": {},
   "outputs": [
    {
     "name": "stdout",
     "output_type": "stream",
     "text": [
      "<class 'pandas.core.frame.DataFrame'>\n",
      "DatetimeIndex: 1984012 entries, 2020-04-16 00:00:00 to 2016-05-09 13:32:00\n",
      "Data columns (total 5 columns):\n",
      " #   Column  Dtype  \n",
      "---  ------  -----  \n",
      " 0   Open    float64\n",
      " 1   High    float64\n",
      " 2   Low     float64\n",
      " 3   Close   float64\n",
      " 4   Volume  float64\n",
      "dtypes: float64(5)\n",
      "memory usage: 90.8 MB\n"
     ]
    }
   ],
   "source": [
    "df.info()"
   ]
  },
  {
   "cell_type": "code",
   "execution_count": 6,
   "metadata": {},
   "outputs": [],
   "source": [
    "df_week = df[1440*3::-1]"
   ]
  },
  {
   "cell_type": "code",
   "execution_count": 7,
   "metadata": {},
   "outputs": [
    {
     "data": {
      "text/html": [
       "<div>\n",
       "<style scoped>\n",
       "    .dataframe tbody tr th:only-of-type {\n",
       "        vertical-align: middle;\n",
       "    }\n",
       "\n",
       "    .dataframe tbody tr th {\n",
       "        vertical-align: top;\n",
       "    }\n",
       "\n",
       "    .dataframe thead th {\n",
       "        text-align: right;\n",
       "    }\n",
       "</style>\n",
       "<table border=\"1\" class=\"dataframe\">\n",
       "  <thead>\n",
       "    <tr style=\"text-align: right;\">\n",
       "      <th></th>\n",
       "      <th>Open</th>\n",
       "      <th>High</th>\n",
       "      <th>Low</th>\n",
       "      <th>Close</th>\n",
       "      <th>Volume</th>\n",
       "    </tr>\n",
       "    <tr>\n",
       "      <th>Date</th>\n",
       "      <th></th>\n",
       "      <th></th>\n",
       "      <th></th>\n",
       "      <th></th>\n",
       "      <th></th>\n",
       "    </tr>\n",
       "  </thead>\n",
       "  <tbody>\n",
       "    <tr>\n",
       "      <th>2020-04-13 00:00:00</th>\n",
       "      <td>158.56</td>\n",
       "      <td>158.82</td>\n",
       "      <td>158.00</td>\n",
       "      <td>158.00</td>\n",
       "      <td>57.553686</td>\n",
       "    </tr>\n",
       "    <tr>\n",
       "      <th>2020-04-13 00:01:00</th>\n",
       "      <td>158.00</td>\n",
       "      <td>158.50</td>\n",
       "      <td>158.00</td>\n",
       "      <td>158.50</td>\n",
       "      <td>188.783790</td>\n",
       "    </tr>\n",
       "    <tr>\n",
       "      <th>2020-04-13 00:02:00</th>\n",
       "      <td>158.50</td>\n",
       "      <td>158.50</td>\n",
       "      <td>157.50</td>\n",
       "      <td>157.86</td>\n",
       "      <td>123.303208</td>\n",
       "    </tr>\n",
       "    <tr>\n",
       "      <th>2020-04-13 00:03:00</th>\n",
       "      <td>157.86</td>\n",
       "      <td>157.86</td>\n",
       "      <td>157.32</td>\n",
       "      <td>157.32</td>\n",
       "      <td>20.328900</td>\n",
       "    </tr>\n",
       "    <tr>\n",
       "      <th>2020-04-13 00:04:00</th>\n",
       "      <td>157.32</td>\n",
       "      <td>157.38</td>\n",
       "      <td>157.20</td>\n",
       "      <td>157.38</td>\n",
       "      <td>4.794839</td>\n",
       "    </tr>\n",
       "    <tr>\n",
       "      <th>...</th>\n",
       "      <td>...</td>\n",
       "      <td>...</td>\n",
       "      <td>...</td>\n",
       "      <td>...</td>\n",
       "      <td>...</td>\n",
       "    </tr>\n",
       "    <tr>\n",
       "      <th>2020-04-15 23:56:00</th>\n",
       "      <td>153.14</td>\n",
       "      <td>153.14</td>\n",
       "      <td>152.96</td>\n",
       "      <td>152.96</td>\n",
       "      <td>167.930714</td>\n",
       "    </tr>\n",
       "    <tr>\n",
       "      <th>2020-04-15 23:57:00</th>\n",
       "      <td>152.96</td>\n",
       "      <td>153.20</td>\n",
       "      <td>152.96</td>\n",
       "      <td>153.17</td>\n",
       "      <td>466.782278</td>\n",
       "    </tr>\n",
       "    <tr>\n",
       "      <th>2020-04-15 23:58:00</th>\n",
       "      <td>153.17</td>\n",
       "      <td>153.17</td>\n",
       "      <td>152.94</td>\n",
       "      <td>152.94</td>\n",
       "      <td>0.013011</td>\n",
       "    </tr>\n",
       "    <tr>\n",
       "      <th>2020-04-15 23:59:00</th>\n",
       "      <td>152.94</td>\n",
       "      <td>152.94</td>\n",
       "      <td>152.94</td>\n",
       "      <td>152.94</td>\n",
       "      <td>0.000000</td>\n",
       "    </tr>\n",
       "    <tr>\n",
       "      <th>2020-04-16 00:00:00</th>\n",
       "      <td>152.94</td>\n",
       "      <td>152.94</td>\n",
       "      <td>151.33</td>\n",
       "      <td>151.33</td>\n",
       "      <td>112.724931</td>\n",
       "    </tr>\n",
       "  </tbody>\n",
       "</table>\n",
       "<p>4321 rows × 5 columns</p>\n",
       "</div>"
      ],
      "text/plain": [
       "                       Open    High     Low   Close      Volume\n",
       "Date                                                           \n",
       "2020-04-13 00:00:00  158.56  158.82  158.00  158.00   57.553686\n",
       "2020-04-13 00:01:00  158.00  158.50  158.00  158.50  188.783790\n",
       "2020-04-13 00:02:00  158.50  158.50  157.50  157.86  123.303208\n",
       "2020-04-13 00:03:00  157.86  157.86  157.32  157.32   20.328900\n",
       "2020-04-13 00:04:00  157.32  157.38  157.20  157.38    4.794839\n",
       "...                     ...     ...     ...     ...         ...\n",
       "2020-04-15 23:56:00  153.14  153.14  152.96  152.96  167.930714\n",
       "2020-04-15 23:57:00  152.96  153.20  152.96  153.17  466.782278\n",
       "2020-04-15 23:58:00  153.17  153.17  152.94  152.94    0.013011\n",
       "2020-04-15 23:59:00  152.94  152.94  152.94  152.94    0.000000\n",
       "2020-04-16 00:00:00  152.94  152.94  151.33  151.33  112.724931\n",
       "\n",
       "[4321 rows x 5 columns]"
      ]
     },
     "execution_count": 7,
     "metadata": {},
     "output_type": "execute_result"
    }
   ],
   "source": [
    "df_week"
   ]
  },
  {
   "cell_type": "code",
   "execution_count": 8,
   "metadata": {},
   "outputs": [],
   "source": [
    "y_test = df_week.Close[-1440::]\n",
    "df_week_train = df_week[:-1440:]"
   ]
  },
  {
   "cell_type": "code",
   "execution_count": 9,
   "metadata": {},
   "outputs": [
    {
     "data": {
      "text/plain": [
       "Date\n",
       "2020-04-15 00:01:00    157.28\n",
       "2020-04-15 00:02:00    157.00\n",
       "2020-04-15 00:03:00    157.11\n",
       "2020-04-15 00:04:00    157.11\n",
       "2020-04-15 00:05:00    157.11\n",
       "                        ...  \n",
       "2020-04-15 23:56:00    152.96\n",
       "2020-04-15 23:57:00    153.17\n",
       "2020-04-15 23:58:00    152.94\n",
       "2020-04-15 23:59:00    152.94\n",
       "2020-04-16 00:00:00    151.33\n",
       "Name: Close, Length: 1440, dtype: float64"
      ]
     },
     "execution_count": 9,
     "metadata": {},
     "output_type": "execute_result"
    }
   ],
   "source": [
    "y_test"
   ]
  },
  {
   "cell_type": "code",
   "execution_count": 10,
   "metadata": {},
   "outputs": [
    {
     "data": {
      "text/html": [
       "<div>\n",
       "<style scoped>\n",
       "    .dataframe tbody tr th:only-of-type {\n",
       "        vertical-align: middle;\n",
       "    }\n",
       "\n",
       "    .dataframe tbody tr th {\n",
       "        vertical-align: top;\n",
       "    }\n",
       "\n",
       "    .dataframe thead th {\n",
       "        text-align: right;\n",
       "    }\n",
       "</style>\n",
       "<table border=\"1\" class=\"dataframe\">\n",
       "  <thead>\n",
       "    <tr style=\"text-align: right;\">\n",
       "      <th></th>\n",
       "      <th>Open</th>\n",
       "      <th>High</th>\n",
       "      <th>Low</th>\n",
       "      <th>Close</th>\n",
       "      <th>Volume</th>\n",
       "    </tr>\n",
       "    <tr>\n",
       "      <th>Date</th>\n",
       "      <th></th>\n",
       "      <th></th>\n",
       "      <th></th>\n",
       "      <th></th>\n",
       "      <th></th>\n",
       "    </tr>\n",
       "  </thead>\n",
       "  <tbody>\n",
       "    <tr>\n",
       "      <th>2020-04-13 00:00:00</th>\n",
       "      <td>158.56</td>\n",
       "      <td>158.82</td>\n",
       "      <td>158.00</td>\n",
       "      <td>158.00</td>\n",
       "      <td>57.553686</td>\n",
       "    </tr>\n",
       "    <tr>\n",
       "      <th>2020-04-13 00:01:00</th>\n",
       "      <td>158.00</td>\n",
       "      <td>158.50</td>\n",
       "      <td>158.00</td>\n",
       "      <td>158.50</td>\n",
       "      <td>188.783790</td>\n",
       "    </tr>\n",
       "    <tr>\n",
       "      <th>2020-04-13 00:02:00</th>\n",
       "      <td>158.50</td>\n",
       "      <td>158.50</td>\n",
       "      <td>157.50</td>\n",
       "      <td>157.86</td>\n",
       "      <td>123.303208</td>\n",
       "    </tr>\n",
       "    <tr>\n",
       "      <th>2020-04-13 00:03:00</th>\n",
       "      <td>157.86</td>\n",
       "      <td>157.86</td>\n",
       "      <td>157.32</td>\n",
       "      <td>157.32</td>\n",
       "      <td>20.328900</td>\n",
       "    </tr>\n",
       "    <tr>\n",
       "      <th>2020-04-13 00:04:00</th>\n",
       "      <td>157.32</td>\n",
       "      <td>157.38</td>\n",
       "      <td>157.20</td>\n",
       "      <td>157.38</td>\n",
       "      <td>4.794839</td>\n",
       "    </tr>\n",
       "    <tr>\n",
       "      <th>...</th>\n",
       "      <td>...</td>\n",
       "      <td>...</td>\n",
       "      <td>...</td>\n",
       "      <td>...</td>\n",
       "      <td>...</td>\n",
       "    </tr>\n",
       "    <tr>\n",
       "      <th>2020-04-14 23:56:00</th>\n",
       "      <td>158.05</td>\n",
       "      <td>158.30</td>\n",
       "      <td>158.05</td>\n",
       "      <td>158.30</td>\n",
       "      <td>0.716060</td>\n",
       "    </tr>\n",
       "    <tr>\n",
       "      <th>2020-04-14 23:57:00</th>\n",
       "      <td>158.30</td>\n",
       "      <td>158.34</td>\n",
       "      <td>158.30</td>\n",
       "      <td>158.34</td>\n",
       "      <td>0.685700</td>\n",
       "    </tr>\n",
       "    <tr>\n",
       "      <th>2020-04-14 23:58:00</th>\n",
       "      <td>158.34</td>\n",
       "      <td>158.50</td>\n",
       "      <td>158.34</td>\n",
       "      <td>158.50</td>\n",
       "      <td>0.630974</td>\n",
       "    </tr>\n",
       "    <tr>\n",
       "      <th>2020-04-14 23:59:00</th>\n",
       "      <td>158.50</td>\n",
       "      <td>158.67</td>\n",
       "      <td>158.50</td>\n",
       "      <td>158.61</td>\n",
       "      <td>0.648032</td>\n",
       "    </tr>\n",
       "    <tr>\n",
       "      <th>2020-04-15 00:00:00</th>\n",
       "      <td>158.61</td>\n",
       "      <td>158.61</td>\n",
       "      <td>158.61</td>\n",
       "      <td>158.61</td>\n",
       "      <td>0.000000</td>\n",
       "    </tr>\n",
       "  </tbody>\n",
       "</table>\n",
       "<p>2881 rows × 5 columns</p>\n",
       "</div>"
      ],
      "text/plain": [
       "                       Open    High     Low   Close      Volume\n",
       "Date                                                           \n",
       "2020-04-13 00:00:00  158.56  158.82  158.00  158.00   57.553686\n",
       "2020-04-13 00:01:00  158.00  158.50  158.00  158.50  188.783790\n",
       "2020-04-13 00:02:00  158.50  158.50  157.50  157.86  123.303208\n",
       "2020-04-13 00:03:00  157.86  157.86  157.32  157.32   20.328900\n",
       "2020-04-13 00:04:00  157.32  157.38  157.20  157.38    4.794839\n",
       "...                     ...     ...     ...     ...         ...\n",
       "2020-04-14 23:56:00  158.05  158.30  158.05  158.30    0.716060\n",
       "2020-04-14 23:57:00  158.30  158.34  158.30  158.34    0.685700\n",
       "2020-04-14 23:58:00  158.34  158.50  158.34  158.50    0.630974\n",
       "2020-04-14 23:59:00  158.50  158.67  158.50  158.61    0.648032\n",
       "2020-04-15 00:00:00  158.61  158.61  158.61  158.61    0.000000\n",
       "\n",
       "[2881 rows x 5 columns]"
      ]
     },
     "execution_count": 10,
     "metadata": {},
     "output_type": "execute_result"
    }
   ],
   "source": [
    "df_week_train"
   ]
  },
  {
   "cell_type": "code",
   "execution_count": 11,
   "metadata": {},
   "outputs": [
    {
     "data": {
      "text/plain": [
       "[<matplotlib.lines.Line2D at 0x7f7376aa3ac0>]"
      ]
     },
     "execution_count": 11,
     "metadata": {},
     "output_type": "execute_result"
    },
    {
     "data": {
      "image/png": "[encoded data removed]",
      "text/plain": [
       "<Figure size 432x288 with 1 Axes>"
      ]
     },
     "metadata": {
      "needs_background": "light"
     },
     "output_type": "display_data"
    }
   ],
   "source": [
    "plt.plot(df_week_train.Volume)"
   ]
  },
  {
   "cell_type": "code",
   "execution_count": 12,
   "metadata": {},
   "outputs": [
    {
     "data": {
      "text/plain": [
       "Text(0.5, 0, 'Date & Time')"
      ]
     },
     "execution_count": 12,
     "metadata": {},
     "output_type": "execute_result"
    },
    {
     "data": {
      "image/png": "[encoded data removed]",
      "text/plain": [
       "<Figure size 432x288 with 1 Axes>"
      ]
     },
     "metadata": {
      "needs_background": "light"
     },
     "output_type": "display_data"
    }
   ],
   "source": [
    "plt.plot(df_week_train['Close'])\n",
    "plt.ylabel('Close Ethereum prise')\n",
    "plt.xlabel('Date & Time')"
   ]
  },
  {
   "cell_type": "code",
   "execution_count": 13,
   "metadata": {},
   "outputs": [
    {
     "name": "stdout",
     "output_type": "stream",
     "text": [
      "Dickey — Fuller test: p=0.446712\n"
     ]
    }
   ],
   "source": [
    "print(\"Dickey — Fuller test: p=%f\" % sm.tsa.stattools.adfuller(df_week_train.Close)[1])"
   ]
  },
  {
   "cell_type": "code",
   "execution_count": 14,
   "metadata": {},
   "outputs": [
    {
     "name": "stderr",
     "output_type": "stream",
     "text": [
      "<ipython-input-14-ab5da41f8711>:1: SettingWithCopyWarning: \n",
      "A value is trying to be set on a copy of a slice from a DataFrame.\n",
      "Try using .loc[row_indexer,col_indexer] = value instead\n",
      "\n",
      "See the caveats in the documentation: https://pandas.pydata.org/pandas-docs/stable/user_guide/indexing.html#returning-a-view-versus-a-copy\n",
      "  df_week_train['Close_diff'] = df_week_train.Close - df_week_train.Close.shift(1)\n"
     ]
    }
   ],
   "source": [
    "df_week_train['Close_diff'] = df_week_train.Close - df_week_train.Close.shift(1)"
   ]
  },
  {
   "cell_type": "code",
   "execution_count": 15,
   "metadata": {},
   "outputs": [
    {
     "data": {
      "text/plain": [
       "<Figure size 1080x720 with 0 Axes>"
      ]
     },
     "execution_count": 15,
     "metadata": {},
     "output_type": "execute_result"
    },
    {
     "data": {
      "image/png": "[encoded data removed]",
      "text/plain": [
       "<Figure size 432x288 with 1 Axes>"
      ]
     },
     "metadata": {
      "needs_background": "light"
     },
     "output_type": "display_data"
    },
    {
     "data": {
      "text/plain": [
       "<Figure size 1080x720 with 0 Axes>"
      ]
     },
     "metadata": {},
     "output_type": "display_data"
    }
   ],
   "source": [
    "plt.plot(df_week_train.Close_diff, linewidth=0.2)\n",
    "plt.figure(figsize(15,10))"
   ]
  },
  {
   "cell_type": "code",
   "execution_count": 16,
   "metadata": {},
   "outputs": [
    {
     "name": "stdout",
     "output_type": "stream",
     "text": [
      "Dickey — Fuller test: p=0.000000\n"
     ]
    }
   ],
   "source": [
    "print(\"Dickey — Fuller test: p=%f\" % sm.tsa.stattools.adfuller(df_week_train.Close_diff[1:])[1])"
   ]
  },
  {
   "cell_type": "code",
   "execution_count": 17,
   "metadata": {},
   "outputs": [
    {
     "data": {
      "image/png": "[encoded data removed]",
      "text/plain": [
       "<Figure size 1080x576 with 1 Axes>"
      ]
     },
     "metadata": {
      "needs_background": "light"
     },
     "output_type": "display_data"
    },
    {
     "data": {
      "image/png": "[encoded data removed]",
      "text/plain": [
       "<Figure size 1080x576 with 1 Axes>"
      ]
     },
     "metadata": {
      "needs_background": "light"
     },
     "output_type": "display_data"
    }
   ],
   "source": [
    "plt.figure(figsize(15,8))\n",
    "ax = plt.subplot(211)\n",
    "sm.graphics.tsa.plot_acf(df_week_train.Close_diff[5:].values.squeeze(), lags=13, ax=ax)\n",
    "pylab.show()\n",
    "ax = plt.subplot(212)\n",
    "sm.graphics.tsa.plot_pacf(df_week_train.Close_diff[5:].values.squeeze(), lags=13, ax=ax)\n",
    "pylab.show()"
   ]
  },
  {
   "cell_type": "code",
   "execution_count": 18,
   "metadata": {},
   "outputs": [
    {
     "name": "stdout",
     "output_type": "stream",
     "text": [
      "Performing stepwise search to minimize aic\n",
      " ARIMA(1,1,1)(1,0,1)[5] intercept   : AIC=-1007.931, Time=1.56 sec\n",
      " ARIMA(0,1,0)(0,0,0)[5] intercept   : AIC=-1000.323, Time=0.24 sec\n",
      " ARIMA(1,1,0)(1,0,0)[5] intercept   : AIC=-1011.729, Time=0.50 sec\n",
      " ARIMA(0,1,1)(0,0,1)[5] intercept   : AIC=-1011.402, Time=0.42 sec\n",
      " ARIMA(0,1,0)(0,0,0)[5]             : AIC=-1002.320, Time=0.09 sec\n",
      " ARIMA(1,1,0)(0,0,0)[5] intercept   : AIC=-1009.174, Time=0.23 sec\n",
      " ARIMA(1,1,0)(2,0,0)[5] intercept   : AIC=-1009.778, Time=1.00 sec\n",
      " ARIMA(1,1,0)(1,0,1)[5] intercept   : AIC=-1009.754, Time=2.02 sec\n",
      " ARIMA(1,1,0)(0,0,1)[5] intercept   : AIC=-1011.679, Time=1.12 sec\n",
      " ARIMA(1,1,0)(2,0,1)[5] intercept   : AIC=-1007.747, Time=0.85 sec\n",
      " ARIMA(0,1,0)(1,0,0)[5] intercept   : AIC=-1003.803, Time=0.19 sec\n",
      " ARIMA(2,1,0)(1,0,0)[5] intercept   : AIC=-1010.090, Time=0.67 sec\n",
      " ARIMA(1,1,1)(1,0,0)[5] intercept   : AIC=-1009.906, Time=1.68 sec\n",
      " ARIMA(0,1,1)(1,0,0)[5] intercept   : AIC=-1011.451, Time=0.42 sec\n",
      " ARIMA(2,1,1)(1,0,0)[5] intercept   : AIC=-1008.541, Time=1.95 sec\n",
      " ARIMA(1,1,0)(1,0,0)[5]             : AIC=-1013.726, Time=0.13 sec\n",
      " ARIMA(1,1,0)(0,0,0)[5]             : AIC=-1011.171, Time=0.13 sec\n",
      " ARIMA(1,1,0)(2,0,0)[5]             : AIC=-1011.775, Time=0.41 sec\n",
      " ARIMA(1,1,0)(1,0,1)[5]             : AIC=-1011.750, Time=0.37 sec\n",
      " ARIMA(1,1,0)(0,0,1)[5]             : AIC=-1013.675, Time=0.13 sec\n",
      " ARIMA(1,1,0)(2,0,1)[5]             : AIC=-1009.744, Time=0.36 sec\n",
      " ARIMA(0,1,0)(1,0,0)[5]             : AIC=-1005.800, Time=0.09 sec\n",
      " ARIMA(2,1,0)(1,0,0)[5]             : AIC=-1012.087, Time=0.22 sec\n",
      " ARIMA(1,1,1)(1,0,0)[5]             : AIC=-1011.903, Time=0.66 sec\n",
      " ARIMA(0,1,1)(1,0,0)[5]             : AIC=-1013.448, Time=0.15 sec\n",
      " ARIMA(2,1,1)(1,0,0)[5]             : AIC=-1010.140, Time=0.36 sec\n",
      "\n",
      "Best model:  ARIMA(1,1,0)(1,0,0)[5]          \n",
      "Total fit time: 15.952 seconds\n"
     ]
    }
   ],
   "source": [
    "ARIMA = pm.auto_arima(df_week_train.Close,\n",
    "                     seasonal = True,\n",
    "                     m = 5,\n",
    "                     d = 1,\n",
    "                     D = 0,\n",
    "                     start_p = 1,\n",
    "                     start_q = 1,\n",
    "                     max_p = 5,\n",
    "                     max_q = 5,\n",
    "                     start_P = 1,\n",
    "                     start_Q = 1,\n",
    "                     max_P = 5,\n",
    "                     max_Q = 5,\n",
    "                     trace = True,\n",
    "                     error_action='ignore',\n",
    "                      suppress_warnings=True)"
   ]
  },
  {
   "cell_type": "code",
   "execution_count": 19,
   "metadata": {
    "scrolled": true
   },
   "outputs": [
    {
     "data": {
      "text/html": [
       "<table class=\"simpletable\">\n",
       "<caption>SARIMAX Results</caption>\n",
       "<tr>\n",
       "  <th>Dep. Variable:</th>                 <td>y</td>               <th>  No. Observations:  </th>   <td>2881</td>   \n",
       "</tr>\n",
       "<tr>\n",
       "  <th>Model:</th>           <td>SARIMAX(1, 1, 0)x(1, 0, 0, 5)</td> <th>  Log Likelihood     </th>  <td>509.863</td> \n",
       "</tr>\n",
       "<tr>\n",
       "  <th>Date:</th>                  <td>Wed, 09 Jun 2021</td>        <th>  AIC                </th> <td>-1013.726</td>\n",
       "</tr>\n",
       "<tr>\n",
       "  <th>Time:</th>                      <td>06:47:43</td>            <th>  BIC                </th> <td>-995.829</td> \n",
       "</tr>\n",
       "<tr>\n",
       "  <th>Sample:</th>                        <td>0</td>               <th>  HQIC               </th> <td>-1007.275</td>\n",
       "</tr>\n",
       "<tr>\n",
       "  <th></th>                            <td> - 2881</td>            <th>                     </th>     <td> </td>    \n",
       "</tr>\n",
       "<tr>\n",
       "  <th>Covariance Type:</th>              <td>opg</td>              <th>                     </th>     <td> </td>    \n",
       "</tr>\n",
       "</table>\n",
       "<table class=\"simpletable\">\n",
       "<tr>\n",
       "     <td></td>        <th>coef</th>     <th>std err</th>      <th>z</th>      <th>P>|z|</th>  <th>[0.025</th>    <th>0.975]</th>  \n",
       "</tr>\n",
       "<tr>\n",
       "  <th>ar.L1</th>   <td>    0.0588</td> <td>    0.013</td> <td>    4.513</td> <td> 0.000</td> <td>    0.033</td> <td>    0.084</td>\n",
       "</tr>\n",
       "<tr>\n",
       "  <th>ar.S.L5</th> <td>   -0.0401</td> <td>    0.011</td> <td>   -3.617</td> <td> 0.000</td> <td>   -0.062</td> <td>   -0.018</td>\n",
       "</tr>\n",
       "<tr>\n",
       "  <th>sigma2</th>  <td>    0.0411</td> <td>    0.000</td> <td>  129.705</td> <td> 0.000</td> <td>    0.040</td> <td>    0.042</td>\n",
       "</tr>\n",
       "</table>\n",
       "<table class=\"simpletable\">\n",
       "<tr>\n",
       "  <th>Ljung-Box (L1) (Q):</th>     <td>0.00</td> <th>  Jarque-Bera (JB):  </th> <td>115097.04</td>\n",
       "</tr>\n",
       "<tr>\n",
       "  <th>Prob(Q):</th>                <td>0.97</td> <th>  Prob(JB):          </th>   <td>0.00</td>   \n",
       "</tr>\n",
       "<tr>\n",
       "  <th>Heteroskedasticity (H):</th> <td>0.45</td> <th>  Skew:              </th>   <td>-1.36</td>  \n",
       "</tr>\n",
       "<tr>\n",
       "  <th>Prob(H) (two-sided):</th>    <td>0.00</td> <th>  Kurtosis:          </th>   <td>33.85</td>  \n",
       "</tr>\n",
       "</table><br/><br/>Warnings:<br/>[1] Covariance matrix calculated using the outer product of gradients (complex-step)."
      ],
      "text/plain": [
       "<class 'statsmodels.iolib.summary.Summary'>\n",
       "\"\"\"\n",
       "                                     SARIMAX Results                                     \n",
       "=========================================================================================\n",
       "Dep. Variable:                                 y   No. Observations:                 2881\n",
       "Model:             SARIMAX(1, 1, 0)x(1, 0, 0, 5)   Log Likelihood                 509.863\n",
       "Date:                           Wed, 09 Jun 2021   AIC                          -1013.726\n",
       "Time:                                   06:47:43   BIC                           -995.829\n",
       "Sample:                                        0   HQIC                         -1007.275\n",
       "                                          - 2881                                         \n",
       "Covariance Type:                             opg                                         \n",
       "==============================================================================\n",
       "                 coef    std err          z      P>|z|      [0.025      0.975]\n",
       "------------------------------------------------------------------------------\n",
       "ar.L1          0.0588      0.013      4.513      0.000       0.033       0.084\n",
       "ar.S.L5       -0.0401      0.011     -3.617      0.000      -0.062      -0.018\n",
       "sigma2         0.0411      0.000    129.705      0.000       0.040       0.042\n",
       "===================================================================================\n",
       "Ljung-Box (L1) (Q):                   0.00   Jarque-Bera (JB):            115097.04\n",
       "Prob(Q):                              0.97   Prob(JB):                         0.00\n",
       "Heteroskedasticity (H):               0.45   Skew:                            -1.36\n",
       "Prob(H) (two-sided):                  0.00   Kurtosis:                        33.85\n",
       "===================================================================================\n",
       "\n",
       "Warnings:\n",
       "[1] Covariance matrix calculated using the outer product of gradients (complex-step).\n",
       "\"\"\""
      ]
     },
     "execution_count": 19,
     "metadata": {},
     "output_type": "execute_result"
    }
   ],
   "source": [
    "ARIMA.summary()"
   ]
  },
  {
   "cell_type": "code",
   "execution_count": 20,
   "metadata": {
    "scrolled": true
   },
   "outputs": [
    {
     "data": {
      "text/plain": [
       "[<matplotlib.lines.Line2D at 0x7f737c1b37f0>]"
      ]
     },
     "execution_count": 20,
     "metadata": {},
     "output_type": "execute_result"
    },
    {
     "data": {
      "image/png": "[encoded data removed]",
      "text/plain": [
       "<Figure size 1080x576 with 1 Axes>"
      ]
     },
     "metadata": {
      "needs_background": "light"
     },
     "output_type": "display_data"
    }
   ],
   "source": [
    "plt.plot(ARIMA.resid()[1:])"
   ]
  },
  {
   "cell_type": "code",
   "execution_count": 21,
   "metadata": {},
   "outputs": [
    {
     "data": {
      "text/plain": [
       "[<matplotlib.lines.Line2D at 0x7f7378425190>]"
      ]
     },
     "execution_count": 21,
     "metadata": {},
     "output_type": "execute_result"
    },
    {
     "data": {
      "image/png": "[encoded data removed]",
      "text/plain": [
       "<Figure size 1080x576 with 1 Axes>"
      ]
     },
     "metadata": {
      "needs_background": "light"
     },
     "output_type": "display_data"
    }
   ],
   "source": [
    "plt.plot(ARIMA.predict(10))"
   ]
  },
  {
   "cell_type": "code",
   "execution_count": 22,
   "metadata": {},
   "outputs": [
    {
     "data": {
      "text/plain": [
       "[<matplotlib.lines.Line2D at 0x7f737c1d64c0>]"
      ]
     },
     "execution_count": 22,
     "metadata": {},
     "output_type": "execute_result"
    },
    {
     "data": {
      "image/png": "[encoded data removed]",
      "text/plain": [
       "<Figure size 1080x576 with 1 Axes>"
      ]
     },
     "metadata": {
      "needs_background": "light"
     },
     "output_type": "display_data"
    }
   ],
   "source": [
    "plt.plot(y_test[:10])"
   ]
  },
  {
   "cell_type": "code",
   "execution_count": 35,
   "metadata": {},
   "outputs": [],
   "source": [
    "from numpy import array\n",
    "from tensorflow import keras\n",
    "from tensorflow.keras.models import Sequential\n",
    "from tensorflow.keras.layers import Dense\n",
    "from tensorflow.keras.layers import Flatten\n",
    "from keras.layers.convolutional import Conv1D\n",
    "from keras.layers.convolutional import MaxPooling1D"
   ]
  },
  {
   "cell_type": "code",
   "execution_count": 36,
   "metadata": {},
   "outputs": [],
   "source": [
    "def split_sequence(sequence, n_steps):\n",
    "    X, y = list(), list()\n",
    "    for i in range(len(sequence)):\n",
    "        end_ix = i + n_steps\n",
    "        if end_ix > len(sequence)-1:\n",
    "            break\n",
    "        seq_x, seq_y = sequence[i:end_ix], sequence[end_ix]\n",
    "        X.append(seq_x)\n",
    "        y.append(seq_y)\n",
    "    return array(X), array(y)"
   ]
  },
  {
   "cell_type": "code",
   "execution_count": 37,
   "metadata": {},
   "outputs": [],
   "source": [
    "raw_seq = df_week_train.Close\n",
    "n_steps = 10"
   ]
  },
  {
   "cell_type": "code",
   "execution_count": 40,
   "metadata": {},
   "outputs": [],
   "source": [
    "X, y = split_sequence(raw_seq, n_steps)\n",
    "# reshape from [samples, timesteps] into [samples, timesteps, features]\n",
    "n_features = 1\n",
    "X = X.reshape((X.shape[0], X.shape[1], n_features))"
   ]
  },
  {
   "cell_type": "code",
   "execution_count": 41,
   "metadata": {},
   "outputs": [],
   "source": [
    "model = Sequential()\n",
    "model.add(Conv1D(filters=64, kernel_size=2, activation='relu', input_shape=(n_steps, n_features)))\n",
    "model.add(MaxPooling1D(pool_size=2))\n",
    "model.add(Flatten())\n",
    "model.add(Dense(50, activation='relu'))\n",
    "model.add(Dense(1))\n",
    "model.compile(optimizer='adam', loss='mse')"
   ]
  },
  {
   "cell_type": "code",
   "execution_count": 44,
   "metadata": {},
   "outputs": [
    {
     "data": {
      "text/plain": [
       "<tensorflow.python.keras.callbacks.History at 0x7f7328456700>"
      ]
     },
     "execution_count": 44,
     "metadata": {},
     "output_type": "execute_result"
    }
   ],
   "source": [
    "model.fit(X, y, epochs=100, verbose=0)"
   ]
  },
  {
   "cell_type": "code",
   "execution_count": null,
   "metadata": {},
   "outputs": [],
   "source": []
  }
 ],
 "metadata": {
  "kernelspec": {
   "display_name": "Python 3",
   "language": "python",
   "name": "python3"
  },
  "language_info": {
   "codemirror_mode": {
    "name": "ipython",
    "version": 3
   },
   "file_extension": ".py",
   "mimetype": "text/x-python",
   "name": "python",
   "nbconvert_exporter": "python",
   "pygments_lexer": "ipython3",
   "version": "3.8.5"
  }
 },
 "nbformat": 4,
 "nbformat_minor": 4
}
